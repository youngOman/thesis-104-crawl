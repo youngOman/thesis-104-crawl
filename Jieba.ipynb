{
 "cells": [
  {
   "cell_type": "markdown",
   "id": "96ed7ca0-9df6-4b47-8ba5-ad9707b42025",
   "metadata": {},
   "source": [
    "### 抽取出兩個長文本欄位，組合至新的 Excel"
   ]
  },
  {
   "cell_type": "code",
   "execution_count": 1,
   "id": "a8b476f8-9a81-4008-955a-e0a97bf9cdd5",
   "metadata": {},
   "outputs": [],
   "source": [
    "import pandas as pd\n",
    "# df = pd.read_excel('104_data.xlsx')\n",
    "# # 將兩個欄位組合成新的 DataFrame\n",
    "# new_df = pd.concat([job_content, other_requirements], axis=1)\n",
    "# # 匯出成新的 Excel 檔案\n",
    "# new_df.to_excel('textual_analysis.xlsx', index=False)"
   ]
  },
  {
   "cell_type": "code",
   "execution_count": 2,
   "id": "b5621bcf-9168-4fd9-8702-c759930f2a8d",
   "metadata": {},
   "outputs": [
    {
     "data": {
      "text/html": [
       "<div>\n",
       "<style scoped>\n",
       "    .dataframe tbody tr th:only-of-type {\n",
       "        vertical-align: middle;\n",
       "    }\n",
       "\n",
       "    .dataframe tbody tr th {\n",
       "        vertical-align: top;\n",
       "    }\n",
       "\n",
       "    .dataframe thead th {\n",
       "        text-align: right;\n",
       "    }\n",
       "</style>\n",
       "<table border=\"1\" class=\"dataframe\">\n",
       "  <thead>\n",
       "    <tr style=\"text-align: right;\">\n",
       "      <th></th>\n",
       "      <th>職務內容</th>\n",
       "      <th>其他條件</th>\n",
       "    </tr>\n",
       "  </thead>\n",
       "  <tbody>\n",
       "    <tr>\n",
       "      <th>0</th>\n",
       "      <td>職位描述：\\n\\n我們正在尋找有經驗的軟體工程師加入開發團隊，理想候選人需至少有 2 年以上...</td>\n",
       "      <td>NaN</td>\n",
       "    </tr>\n",
       "    <tr>\n",
       "      <th>1</th>\n",
       "      <td>主要負責API程式與網路平台串接及開發EXCEL巨集或程式以整合跨系統/應用軟體作業流程。\\...</td>\n",
       "      <td>NaN</td>\n",
       "    </tr>\n",
       "    <tr>\n",
       "      <th>2</th>\n",
       "      <td>Responsibilities\\n1. Add new features to our d...</td>\n",
       "      <td>1. Interested in developing the novel document...</td>\n",
       "    </tr>\n",
       "    <tr>\n",
       "      <th>3</th>\n",
       "      <td>工作內容：\\n\\n1. 通過.NET進行移動機器人平台開發\\n2. 通過.NET/C++進行...</td>\n",
       "      <td>具有微服務架構經驗,機器人相關演算法經驗或生產物流設計規劃經驗者尤佳</td>\n",
       "    </tr>\n",
       "    <tr>\n",
       "      <th>4</th>\n",
       "      <td>我們在尋找一位軟體工程師，維護及優化公司現有的多層次傳銷系統，並配合公司的需求開發新功能；此...</td>\n",
       "      <td>熟悉多層次傳銷系統者佳</td>\n",
       "    </tr>\n",
       "  </tbody>\n",
       "</table>\n",
       "</div>"
      ],
      "text/plain": [
       "                                                職務內容  \\\n",
       "0  職位描述：\\n\\n我們正在尋找有經驗的軟體工程師加入開發團隊，理想候選人需至少有 2 年以上...   \n",
       "1  主要負責API程式與網路平台串接及開發EXCEL巨集或程式以整合跨系統/應用軟體作業流程。\\...   \n",
       "2  Responsibilities\\n1. Add new features to our d...   \n",
       "3  工作內容：\\n\\n1. 通過.NET進行移動機器人平台開發\\n2. 通過.NET/C++進行...   \n",
       "4  我們在尋找一位軟體工程師，維護及優化公司現有的多層次傳銷系統，並配合公司的需求開發新功能；此...   \n",
       "\n",
       "                                                其他條件  \n",
       "0                                                NaN  \n",
       "1                                                NaN  \n",
       "2  1. Interested in developing the novel document...  \n",
       "3                 具有微服務架構經驗,機器人相關演算法經驗或生產物流設計規劃經驗者尤佳  \n",
       "4                                        熟悉多層次傳銷系統者佳  "
      ]
     },
     "execution_count": 2,
     "metadata": {},
     "output_type": "execute_result"
    }
   ],
   "source": [
    "file_path = 'textual_analysis.xlsx'\n",
    "data = pd.read_excel(file_path)\n",
    "\n",
    "data.head()"
   ]
  },
  {
   "cell_type": "code",
   "execution_count": 3,
   "id": "aa572276-ebae-481e-9ff3-2fd8f2cddf2a",
   "metadata": {},
   "outputs": [
    {
     "data": {
      "text/plain": [
       "0       職位描述：\\n\\n我們正在尋找有經驗的軟體工程師加入開發團隊，理想候選人需至少有 2 年以上...\n",
       "1       主要負責API程式與網路平台串接及開發EXCEL巨集或程式以整合跨系統/應用軟體作業流程。\\...\n",
       "2       Responsibilities\\n1. Add new features to our d...\n",
       "3       工作內容：\\n\\n1. 通過.NET進行移動機器人平台開發\\n2. 通過.NET/C++進行...\n",
       "4       我們在尋找一位軟體工程師，維護及優化公司現有的多層次傳銷系統，並配合公司的需求開發新功能；此...\n",
       "                              ...                        \n",
       "2352    Job Description (職務說明)：\\nWorks with the global...\n",
       "2353    •\\tImplement core features in mobile games_x00...\n",
       "2354    1.購物網站建置與開發\\n2.會員活動串接與規劃\\n3.報表需求確認與開發\\n4.提升平台效...\n",
       "2355    1.程式設計 (IBM AS400 RPG )、 (VB)、(C#)、 ( ASP.net)...\n",
       "2356    【工作內容】 \\n- 負責APP開發\\n- 優化體驗及效能\\n \\n【工作技能】 \\n- 熟...\n",
       "Name: 職務內容, Length: 2357, dtype: object"
      ]
     },
     "execution_count": 3,
     "metadata": {},
     "output_type": "execute_result"
    }
   ],
   "source": [
    "job_content = data['職務內容']\n",
    "# 選擇「其他條件」欄位，並新增到新的 DataFrame 中\n",
    "other_requirements = data['其他條件']\n",
    "\n",
    "job_content"
   ]
  },
  {
   "cell_type": "code",
   "execution_count": 4,
   "id": "9f6b0d44-f570-44b0-af23-465002fb7bf1",
   "metadata": {},
   "outputs": [],
   "source": [
    "# 將職務內容 以及 其他條件 欄位的兩千多筆資料 分別成一個字串\n",
    "job_content_text = data['職務內容'].fillna('').astype(str).str.cat(sep=' ')\n",
    "other_requirements_text = data['其他條件'].fillna('').astype(str).str.cat(sep=' ')\n",
    "\n",
    "# job_content_text"
   ]
  },
  {
   "cell_type": "markdown",
   "id": "c2fe2f56-b82f-4b60-a002-d0522d088d53",
   "metadata": {},
   "source": [
    "### 斷詞"
   ]
  },
  {
   "cell_type": "markdown",
   "id": "1f302e3e-cdff-4a38-8e5b-1e63d2c9cce6",
   "metadata": {},
   "source": [
    "## TF-IDF 加權"
   ]
  },
  {
   "cell_type": "markdown",
   "id": "4bac5ab1-54d9-44dd-aa31-6ea9bbb2b756",
   "metadata": {},
   "source": [
    "#### 測試停用詞 文檔是否有用"
   ]
  },
  {
   "cell_type": "code",
   "execution_count": 5,
   "id": "662e7aac-884b-46c4-b6f5-ddd9d19694e1",
   "metadata": {},
   "outputs": [
    {
     "data": {
      "text/plain": [
       "['the',\n",
       " 'to',\n",
       " 'and',\n",
       " 'x000d',\n",
       " 'to',\n",
       " 'of',\n",
       " 'is',\n",
       " 'and',\n",
       " 'to',\n",
       " 'in',\n",
       " 'that',\n",
       " 'we',\n",
       " 'for',\n",
       " 'an',\n",
       " 'are',\n",
       " 'by',\n",
       " 'be',\n",
       " 'as',\n",
       " 'on',\n",
       " 'with',\n",
       " 'can',\n",
       " 'if',\n",
       " 'from',\n",
       " 'which',\n",
       " 'you',\n",
       " 'it',\n",
       " 'this',\n",
       " 'then',\n",
       " 'at',\n",
       " 'have',\n",
       " 'all',\n",
       " 'not',\n",
       " 'one',\n",
       " 'has',\n",
       " 'or',\n",
       " 'that',\n",
       " '的',\n",
       " '了',\n",
       " '和',\n",
       " '是',\n",
       " '就',\n",
       " '都',\n",
       " '而',\n",
       " '及',\n",
       " '與',\n",
       " '著',\n",
       " '或',\n",
       " '一個',\n",
       " '沒有',\n",
       " '我們',\n",
       " '你們',\n",
       " '妳們',\n",
       " '他們',\n",
       " '她們',\n",
       " '是否']"
      ]
     },
     "execution_count": 5,
     "metadata": {},
     "output_type": "execute_result"
    }
   ],
   "source": [
    "with open('jieba_dict/stop_words.txt', 'r', encoding='utf-8') as f:\n",
    "    stopwords = [line.strip() for line in f]\n",
    "stopwords"
   ]
  },
  {
   "cell_type": "markdown",
   "id": "dea9460a-1aad-4070-805c-c5696749cb12",
   "metadata": {},
   "source": [
    "### 計算「職缺內容」的 TF-IDF 值"
   ]
  },
  {
   "cell_type": "code",
   "execution_count": 6,
   "id": "d8a5489e-f541-4fab-8002-1d8431c95b53",
   "metadata": {},
   "outputs": [
    {
     "ename": "ModuleNotFoundError",
     "evalue": "No module named 'jieba'",
     "output_type": "error",
     "traceback": [
      "\u001b[1;31m---------------------------------------------------------------------------\u001b[0m",
      "\u001b[1;31mModuleNotFoundError\u001b[0m                       Traceback (most recent call last)",
      "Cell \u001b[1;32mIn[6], line 1\u001b[0m\n\u001b[1;32m----> 1\u001b[0m \u001b[38;5;28;01mimport\u001b[39;00m \u001b[38;5;21;01mjieba\u001b[39;00m\n\u001b[0;32m      2\u001b[0m \u001b[38;5;28;01mfrom\u001b[39;00m \u001b[38;5;21;01msklearn\u001b[39;00m\u001b[38;5;21;01m.\u001b[39;00m\u001b[38;5;21;01mfeature_extraction\u001b[39;00m\u001b[38;5;21;01m.\u001b[39;00m\u001b[38;5;21;01mtext\u001b[39;00m \u001b[38;5;28;01mimport\u001b[39;00m TfidfVectorizer\n\u001b[0;32m      4\u001b[0m \u001b[38;5;66;03m# 讀取停用詞檔案\u001b[39;00m\n",
      "\u001b[1;31mModuleNotFoundError\u001b[0m: No module named 'jieba'"
     ]
    }
   ],
   "source": [
    "import jieba\n",
    "from sklearn.feature_extraction.text import TfidfVectorizer\n",
    "\n",
    "# 讀取停用詞檔案\n",
    "with open('jieba_dict/stop_words.txt', 'r', encoding='utf-8') as f:\n",
    "    stopwords = [line.strip() for line in f]\n",
    "\n",
    "# 移除停用詞後再進行斷詞\n",
    "filtered_text = [word for word in jieba.cut(job_content_text) if word not in stopwords]\n",
    "\n",
    "# 將斷詞後的結果轉換為字符串\n",
    "text = ' '.join(filtered_text)\n",
    "\n",
    "# 定義TF-IDF向量化器，不使用停用詞\n",
    "tfidf_vectorizer = TfidfVectorizer()\n",
    "\n",
    "# 將文本資料轉換為TF-IDF向量\n",
    "tfidf_matrix = tfidf_vectorizer.fit_transform([text])\n",
    "\n",
    "# 取得特徵詞列表\n",
    "feature_names = tfidf_vectorizer.get_feature_names_out()\n",
    "\n",
    "# 取得詞彙與權重的對應關係\n",
    "word_weight = dict(zip(feature_names, tfidf_matrix.toarray()[0]))\n",
    "\n",
    "# 依據TF-IDF值對詞彙進行排序\n",
    "sorted_word_weight = sorted(word_weight.items(), key=lambda x: x[1], reverse=True)\n",
    "\n",
    "# 取得前40項關鍵詞\n",
    "top_keywords = sorted_word_weight[:40]\n",
    "\n",
    "# 列印前40項關鍵詞\n",
    "for word, weight in top_keywords:\n",
    "    print(word, weight)"
   ]
  },
  {
   "cell_type": "markdown",
   "id": "7bb42e07-ff8f-4c86-a777-45eb70009a62",
   "metadata": {},
   "source": [
    "### 職缺內容的 TF、IDF和 TF-IDF值"
   ]
  },
  {
   "cell_type": "code",
   "execution_count": null,
   "id": "7903a7b6-5707-47bb-b5e9-0dffe06297dc",
   "metadata": {},
   "outputs": [],
   "source": [
    "for word in set(filtered_text):\n",
    "    df[word] = sum(1 for doc in filtered_text if word in doc)\n",
    "    print(f\"詞彙 {word} 的 IDF 值為: {df[word]}\")"
   ]
  },
  {
   "cell_type": "code",
   "execution_count": 2,
   "id": "59e9379e-40b4-411c-9e6c-6697bd3eb43e",
   "metadata": {},
   "outputs": [
    {
     "ename": "ModuleNotFoundError",
     "evalue": "No module named 'jieba'",
     "output_type": "error",
     "traceback": [
      "\u001b[1;31m---------------------------------------------------------------------------\u001b[0m",
      "\u001b[1;31mModuleNotFoundError\u001b[0m                       Traceback (most recent call last)",
      "Cell \u001b[1;32mIn[2], line 1\u001b[0m\n\u001b[1;32m----> 1\u001b[0m \u001b[38;5;28;01mimport\u001b[39;00m \u001b[38;5;21;01mjieba\u001b[39;00m\n\u001b[0;32m      2\u001b[0m \u001b[38;5;28;01mimport\u001b[39;00m \u001b[38;5;21;01mre\u001b[39;00m\n\u001b[0;32m      3\u001b[0m \u001b[38;5;28;01mfrom\u001b[39;00m \u001b[38;5;21;01msklearn\u001b[39;00m\u001b[38;5;21;01m.\u001b[39;00m\u001b[38;5;21;01mfeature_extraction\u001b[39;00m\u001b[38;5;21;01m.\u001b[39;00m\u001b[38;5;21;01mtext\u001b[39;00m \u001b[38;5;28;01mimport\u001b[39;00m TfidfVectorizer\n",
      "\u001b[1;31mModuleNotFoundError\u001b[0m: No module named 'jieba'"
     ]
    }
   ],
   "source": [
    "import jieba\n",
    "import re\n",
    "from sklearn.feature_extraction.text import TfidfVectorizer\n",
    "import math\n",
    "\n",
    "# 讀取停用詞檔案\n",
    "with open('jieba_dict/stop_words.txt', 'r', encoding='utf-8') as f:\n",
    "    stopwords = [line.strip() for line in f]\n",
    "\n",
    "# 移除停用詞後再進行斷詞\n",
    "filtered_text = [word for word in jieba.cut(job_content_text) if word not in stopwords and len(word) > 1 and not re.match(r\"[\\d]\", word)]\n",
    "\n",
    "# 計算詞頻\n",
    "tf = {}\n",
    "for word in filtered_text:\n",
    "    tf[word] = tf.get(word, 0) + 1\n",
    "total_words = len(filtered_text)\n",
    "for word in tf:\n",
    "    tf[word] /= total_words\n",
    "\n",
    "# 計算文檔數目\n",
    "total_docs = len(filtered_text)  # 請替換 documents 為你的文檔列表，其中每個元素都是一個文檔\n",
    "\n",
    "\n",
    "# 計算包含每個詞彙的文檔數目\n",
    "df = {}\n",
    "for word in set(filtered_text):\n",
    "    df[word] = sum(1 for doc in filtered_text if word in doc)\n",
    "    # print(f\"詞彙 {word} 的 DF 值為: {df[word]}\")\n",
    "\n",
    "# 計算 IDF\n",
    "idf = {}\n",
    "for word in df:\n",
    "    idf[word] = math.log(total_docs / (df[word] + 1))\n",
    "    # print(f\"詞彙 {word} 的 IDF 值為: {idf[word]}\")\n",
    "\n",
    "# 計算 TF-IDF\n",
    "tfidf = {}\n",
    "for word in tf:\n",
    "    tfidf[word] = tf[word] * idf[word]\n",
    "\n",
    "# 依照 TF-IDF 值排序\n",
    "sorted_tfidf = sorted(tfidf.items(), key=lambda x: x[1], reverse=True)\n",
    "\n",
    "# 取得前40項關鍵詞及其對應的 TF、IDF、TF-IDF 值\n",
    "top_keywords = sorted_tfidf[:40]\n",
    "\n",
    "# 列印前40項關鍵詞及其對應的 TF、IDF、TF-IDF 值\n",
    "for word, tfidf_value in top_keywords:\n",
    "    tf_value = tf[word]\n",
    "    idf_value = idf[word]\n",
    "    print(f\"詞彙: {word}, TF: {tf_value}, IDF: {idf_value}, TF-IDF: {tfidf_value}\")"
   ]
  },
  {
   "cell_type": "markdown",
   "id": "1c924895-fa81-44be-baa1-a121b9866963",
   "metadata": {},
   "source": [
    "### 其他條件 的 TF、IDF和 TF-IDF值"
   ]
  },
  {
   "cell_type": "code",
   "execution_count": 1,
   "id": "aef6874c-dda8-4f1e-93ce-2dda6ac893b1",
   "metadata": {},
   "outputs": [
    {
     "ename": "ModuleNotFoundError",
     "evalue": "No module named 'jieba'",
     "output_type": "error",
     "traceback": [
      "\u001b[1;31m---------------------------------------------------------------------------\u001b[0m",
      "\u001b[1;31mModuleNotFoundError\u001b[0m                       Traceback (most recent call last)",
      "Cell \u001b[1;32mIn[1], line 1\u001b[0m\n\u001b[1;32m----> 1\u001b[0m \u001b[38;5;28;01mimport\u001b[39;00m \u001b[38;5;21;01mjieba\u001b[39;00m\n\u001b[0;32m      2\u001b[0m \u001b[38;5;28;01mfrom\u001b[39;00m \u001b[38;5;21;01msklearn\u001b[39;00m\u001b[38;5;21;01m.\u001b[39;00m\u001b[38;5;21;01mfeature_extraction\u001b[39;00m\u001b[38;5;21;01m.\u001b[39;00m\u001b[38;5;21;01mtext\u001b[39;00m \u001b[38;5;28;01mimport\u001b[39;00m TfidfVectorizer\n\u001b[0;32m      4\u001b[0m \u001b[38;5;66;03m# 讀取停用詞檔案\u001b[39;00m\n",
      "\u001b[1;31mModuleNotFoundError\u001b[0m: No module named 'jieba'"
     ]
    }
   ],
   "source": [
    "import jieba\n",
    "from sklearn.feature_extraction.text import TfidfVectorizer\n",
    "\n",
    "# 讀取停用詞檔案\n",
    "with open('jieba_dict/stop_words.txt', 'r', encoding='utf-8') as f:\n",
    "    stopwords = [line.strip() for line in f]\n",
    "\n",
    "# 移除停用詞後再進行斷詞\n",
    "filtered_text = [word for word in jieba.cut(job_content_text) if word not in stopwords]\n",
    "\n",
    "# 將斷詞後的結果轉換為字符串\n",
    "text = ' '.join(filtered_text)\n",
    "\n",
    "# 定義TF-IDF向量化器，不使用停用詞\n",
    "tfidf_vectorizer = TfidfVectorizer()\n",
    "\n",
    "# 將文本資料轉換為TF-IDF向量\n",
    "tfidf_matrix = tfidf_vectorizer.fit_transform([text])\n",
    "\n",
    "# 取得特徵詞列表\n",
    "feature_names = tfidf_vectorizer.get_feature_names_out()\n",
    "\n",
    "# 取得詞彙與權重的對應關係\n",
    "word_weight = dict(zip(feature_names, tfidf_matrix.toarray()[0]))\n",
    "\n",
    "# 依據TF-IDF值對詞彙進行排序\n",
    "sorted_word_weight = sorted(word_weight.items(), key=lambda x: x[1], reverse=True)\n",
    "\n",
    "# 取得前40項關鍵詞\n",
    "top_keywords = sorted_word_weight[:40]\n",
    "\n",
    "# 列印前40項關鍵詞\n",
    "for word, weight in top_keywords:\n",
    "    print(word, weight)"
   ]
  }
 ],
 "metadata": {
  "kernelspec": {
   "display_name": "Python 3 (ipykernel)",
   "language": "python",
   "name": "python3"
  },
  "language_info": {
   "codemirror_mode": {
    "name": "ipython",
    "version": 3
   },
   "file_extension": ".py",
   "mimetype": "text/x-python",
   "name": "python",
   "nbconvert_exporter": "python",
   "pygments_lexer": "ipython3",
   "version": "3.11.5"
  }
 },
 "nbformat": 4,
 "nbformat_minor": 5
}
